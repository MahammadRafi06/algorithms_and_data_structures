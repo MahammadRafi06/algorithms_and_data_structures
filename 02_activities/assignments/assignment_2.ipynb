{
 "cells": [
  {
   "cell_type": "markdown",
   "metadata": {},
   "source": [
    "# Practice Interview\n",
    "\n",
    "## Objective\n",
    "\n",
    "_*The partner assignment aims to provide participants with the opportunity to practice coding in an interview context. You will analyze your partner's Assignment 1. Moreover, code reviews are common practice in a software development team. This assignment should give you a taste of the code review process.*_\n",
    "\n",
    "## Group Size\n",
    "\n",
    "Each group should have 2 people. You will be assigned a partner\n",
    "\n",
    "## Part 1:\n",
    "\n",
    "You and your partner must share each other's Assignment 1 submission."
   ]
  },
  {
   "cell_type": "markdown",
   "metadata": {},
   "source": [
    "\n",
    "## Part 2:\n",
    "\n",
    "Create a Jupyter Notebook, create 6 of the following headings, and complete the following for your partner's assignment 1:\n",
    "\n",
    "-   Paraphrase the problem in your own words.\n"
   ]
  },
  {
   "cell_type": "code",
   "execution_count": 1,
   "metadata": {},
   "outputs": [],
   "source": [
    "# Your answer here\n",
    "Find all poaaibl paths from a root to leafs in a tree structure and represent each path as a list of nodes. "
   ]
  },
  {
   "cell_type": "markdown",
   "metadata": {},
   "source": [
    "\n",
    "-   Create 1 new example that demonstrates you understand the problem. Trace/walkthrough 1 example that your partner made and explain it.\n"
   ]
  },
  {
   "cell_type": "code",
   "execution_count": 2,
   "metadata": {},
   "outputs": [],
   "source": [
    "# Your answer here\n",
    "In example-4(unbalanced tree), there are two leaf nodes which means there should be two list of nodes for each path from node to each leaf. So, in this particular example, the answers are  \n",
    "[1, 2, 4, 5, 6, 7, 8] and [1, 3] "
   ]
  },
  {
   "cell_type": "markdown",
   "metadata": {},
   "source": [
    "\n",
    "-   Copy the solution your partner wrote. \n"
   ]
  },
  {
   "cell_type": "code",
   "execution_count": null,
   "metadata": {},
   "outputs": [],
   "source": [
    "# Your answer here\n",
    "from typing import List\n",
    "\n",
    "class TreeNode():\n",
    "    \n",
    "    \"\"\"\n",
    "    The TreeNode class is a node of a tree. \n",
    "\n",
    "    Attributes:\n",
    "    'val'    - integer (node value)    \n",
    "    'children' - list of TreeNode objects that are children. The constructor allows for\n",
    "    number of children to be more than two. If we want to restrict the number of children \n",
    "    to 2 (binary tree), a validation can be added to the constructor\n",
    "\n",
    "    Constructor:\n",
    "        __init__(self, val:int = 0, children:List = [])\n",
    "\n",
    "    Methods:        \n",
    "        dfs_paths_to_leaves(self) -> List[List[int]]\n",
    "    \"\"\"\n",
    "\n",
    "    def __init__(self, val:int = 0, children:List = []):\n",
    "        self.val = val        \n",
    "        self.children = children\n",
    "        \n",
    "        \n",
    "    # The 'paths' variable is the main list that contains the lists of paths to the leaf. It is the\n",
    "    # return value of this function. The individual paths are constructed from self (eg: root) to \n",
    "    # its leaves.\n",
    "    def dfs_paths_to_leaves(self) -> List[List[int]]:\n",
    "        \n",
    "        paths = []\n",
    "    \n",
    "        # Helper function to construct each path from self until its leaves.\n",
    "        # Append val into path. As soon as you reach a node that has no children,  \n",
    "        # append the invidual path to 'paths'\n",
    "        def dfs(node, path):\n",
    "            path.append(node.val)\n",
    "            \n",
    "            # If you get to node with no children, you have reached leaf. \n",
    "            # Append individual path to the paths\n",
    "            if not node.children:\n",
    "                paths.append(path)\n",
    "                       \n",
    "            # Recursively traverse each child node for path\n",
    "            for child in node.children:                \n",
    "                dfs(child, path[:])\n",
    "                \n",
    "        \n",
    "        dfs(self, [])  # Start DFS from the current node (self)\n",
    "        return paths         \n",
    "\n",
    "# testing example 1\n",
    "root = TreeNode(1, \n",
    "                   [TreeNode(2,  \n",
    "                                [TreeNode(3), TreeNode(5)]), \n",
    "                    TreeNode(2, \n",
    "                                [TreeNode(6), TreeNode(7)])\n",
    "                    ]\n",
    "                ) \n",
    "paths = root.dfs_paths_to_leaves()\n",
    "print(paths)\n",
    "\n",
    "# testing example 2\n",
    "root = TreeNode(10, \n",
    "                    [TreeNode(9,  \n",
    "                                [TreeNode(8)]), \n",
    "                     TreeNode(7)]\n",
    "        )  \n",
    "paths = root.dfs_paths_to_leaves()\n",
    "print(paths)\n",
    "\n",
    "# testing example 3\n",
    "root = TreeNode(1, \n",
    "                [TreeNode(2, [TreeNode(4,\n",
    "                                        [TreeNode(8), TreeNode(9)]),\n",
    "                              TreeNode(5, \n",
    "                                        [TreeNode(10), TreeNode(11)])]), \n",
    "                 TreeNode(3, [TreeNode(6, \n",
    "                                        [TreeNode(12), TreeNode(13)]), \n",
    "                              TreeNode(7, \n",
    "                                        [TreeNode(14), TreeNode(15)])])]) \n",
    "paths = root.dfs_paths_to_leaves()\n",
    "print(paths)\n",
    "\n",
    "# testing example 4\n",
    "root = TreeNode(1, \n",
    "                [TreeNode(2, \n",
    "                          [TreeNode(4, \n",
    "                                      [TreeNode(5, \n",
    "                                                  [TreeNode(6, \n",
    "                                                               [TreeNode(7, \n",
    "                                                                           [TreeNode(8)])])])])]\n",
    "                          ), \n",
    "                 TreeNode(3)])\n",
    "paths = root.dfs_paths_to_leaves()\n",
    "print(paths)\n",
    "#help(root)"
   ]
  },
  {
   "cell_type": "markdown",
   "metadata": {},
   "source": [
    "\n",
    "-   Explain why their solution works in your own words.\n"
   ]
  },
  {
   "cell_type": "code",
   "execution_count": null,
   "metadata": {},
   "outputs": [],
   "source": [
    "# Your answer here\n",
    "Code has Treenode class which is typical for any tree structure problem and a function (dfs_paths_to_leaves) to find paths from node to leafs. dfs_paths_to_leaves has an empty list add the path \n",
    "and multiple subfunctions to append the each explored note to the path and to check if there're no children in which case we found the leaf to stop processing\n"
   ]
  },
  {
   "cell_type": "markdown",
   "metadata": {},
   "source": [
    "\n",
    "-   Explain the problem’s time and space complexity in your own words.\n"
   ]
  },
  {
   "cell_type": "code",
   "execution_count": null,
   "metadata": {},
   "outputs": [],
   "source": [
    "# Your answer here\n",
    "Since we have list, the space complexity worst case is O(n). Time complexity is also O(n).\n"
   ]
  },
  {
   "cell_type": "markdown",
   "metadata": {},
   "source": [
    "\n",
    "-   Critique your partner's solution, including explanation, and if there is anything that should be adjusted.\n"
   ]
  },
  {
   "cell_type": "code",
   "execution_count": null,
   "metadata": {},
   "outputs": [],
   "source": [
    "# Your answer here\n",
    "The code would have been much concise had recursion been used. "
   ]
  },
  {
   "cell_type": "markdown",
   "metadata": {},
   "source": [
    "\n",
    "## Part 3:\n",
    "\n",
    "Please write a 200 word reflection documenting your process from assignment 1, and your presentation and review experience with your partner at the bottom of the Jupyter Notebook under a new heading \"Reflection.\" Again, export this Notebook as pdf.\n"
   ]
  },
  {
   "cell_type": "markdown",
   "metadata": {},
   "source": [
    "### Reflection"
   ]
  },
  {
   "cell_type": "code",
   "execution_count": null,
   "metadata": {},
   "outputs": [],
   "source": [
    "# Your answer here\n",
    "\n",
    "During Assignment 1, my main objective was to create a TreeNode class capable of representing a tree structure and to implement a method for finding all duplicates and closest duplicate if there're multiples\n",
    " from the root to the leaves using Depth-First Search (DFS). The assignment required careful planning, coding, and testing to ensure that the solution was both correct and efficient.\n",
    "\n",
    "Initially, I outlined the class structure and identified the necessary attributes and methods. The TreeNode class was designed to hold a value and a list of children, \n",
    "allowing for a flexible tree structure. Implementing the dfs_paths_to_leaves method posed a significant challenge as it required a recursive approach to traverse the tree and \n",
    "collect paths and identify duplicates. The helper function within this method was crucial for maintaining the current path and adding it to the list of paths upon reaching a leaf nodes.\n",
    "\n",
    "Testing was an essential part of the process. I created several test cases with different tree structures to verify the correctness of my implementation. \n",
    "These tests ensured that the method correctly handled various scenarios, including trees with multiple levels and branches.\n",
    "\n",
    "Reviewing my partner's work' was an insightful experience and understanding the logic and structure of the code helped me solidify my understanding and identify areas for improvement. \n",
    "My partner's code review is valuable, providing a fresh perspective and highlighting potential edge cases I had not considered. This collaborative process not only improved the quality of my \n",
    "assignments but also enhanced my problem-solving and communication skills."
   ]
  },
  {
   "cell_type": "markdown",
   "metadata": {},
   "source": [
    "\n",
    "## Evaluation Criteria\n",
    "\n",
    "We are looking for the similar points as Assignment 1\n",
    "\n",
    "-   Problem is accurately stated\n",
    "\n",
    "-   New example is correct and easily understandable\n",
    "\n",
    "-   Correctness, time, and space complexity of the coding solution\n",
    "\n",
    "-   Clarity in explaining why the solution works, its time and space complexity\n",
    "\n",
    "-   Quality of critique of your partner's assignment, if necessary\n"
   ]
  },
  {
   "cell_type": "markdown",
   "metadata": {},
   "source": [
    "## Submission Information\n",
    "\n",
    "🚨 **Please review our [Assignment Submission Guide](https://github.com/UofT-DSI/onboarding/blob/main/onboarding_documents/submissions.md)** 🚨 for detailed instructions on how to format, branch, and submit your work. Following these guidelines is crucial for your submissions to be evaluated correctly.\n",
    "\n",
    "### Submission Parameters:\n",
    "* Submission Due Date: `HH:MM AM/PM - DD/MM/YYYY`\n",
    "* The branch name for your repo should be: `assignment-2`\n",
    "* What to submit for this assignment:\n",
    "    * This Jupyter Notebook (assignment_2.ipynb) should be populated and should be the only change in your pull request.\n",
    "* What the pull request link should look like for this assignment: `https://github.com/<your_github_username>/algorithms_and_data_structures/pull/<pr_id>`\n",
    "    * Open a private window in your browser. Copy and paste the link to your pull request into the address bar. Make sure you can see your pull request properly. This helps the technical facilitator and learning support staff review your submission easily.\n",
    "\n",
    "Checklist:\n",
    "- [ ] Created a branch with the correct naming convention.\n",
    "- [ ] Ensured that the repository is public.\n",
    "- [ ] Reviewed the PR description guidelines and adhered to them.\n",
    "- [ ] Verify that the link is accessible in a private browser window.\n",
    "\n",
    "If you encounter any difficulties or have questions, please don't hesitate to reach out to our team via our Slack at `#cohort-3-help`. Our Technical Facilitators and Learning Support staff are here to help you navigate any challenges.\n"
   ]
  }
 ],
 "metadata": {
  "kernelspec": {
   "display_name": "dsi_participant",
   "language": "python",
   "name": "python3"
  },
  "language_info": {
   "codemirror_mode": {
    "name": "ipython",
    "version": 3
   },
   "file_extension": ".py",
   "mimetype": "text/x-python",
   "name": "python",
   "nbconvert_exporter": "python",
   "pygments_lexer": "ipython3",
   "version": "3.9.15"
  }
 },
 "nbformat": 4,
 "nbformat_minor": 2
}
